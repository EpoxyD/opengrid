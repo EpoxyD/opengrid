{
 "cells": [
  {
   "cell_type": "markdown",
   "metadata": {},
   "source": [
    "# Compute degree-days for heating and cooling\n",
    "\n",
    "This notebook shows how to compute degree-days for heating and/or cooling from the ambient temperature.  We compute degree-days with different base temperatures.  This is a very useful input for eg. multivarible analyses, like [this one](https://opengridcc.github.io/analysis/mvar)."
   ]
  },
  {
   "cell_type": "code",
   "execution_count": null,
   "metadata": {},
   "outputs": [],
   "source": [
    "import opengrid as og\n",
    "import pandas as pd\n",
    "\n",
    "%matplotlib inline\n",
    "import matplotlib.pyplot as plt"
   ]
  },
  {
   "cell_type": "code",
   "execution_count": null,
   "metadata": {},
   "outputs": [],
   "source": [
    "dfw = og.datasets.get('weather_2016_hour')"
   ]
  },
  {
   "cell_type": "markdown",
   "metadata": {},
   "source": [
    "### Compute degree days\n",
    "\n",
    "First we resample the data to daily values, then we compute heating and cooling degree days."
   ]
  },
  {
   "cell_type": "code",
   "execution_count": null,
   "metadata": {},
   "outputs": [],
   "source": [
    "dfw = dfw.resample('D').mean()\n",
    "dfw_HDD = og.library.weather.compute_degree_days(ts=dfw['temperature'],\n",
    "                                                  heating_base_temperatures=range(8, 18, 2),\n",
    "                                                  cooling_base_temperatures=range(16, 26, 2)).bfill()\n",
    "dfw_HDD = pd.concat([dfw, dfw_HDD], axis=1)"
   ]
  },
  {
   "cell_type": "markdown",
   "metadata": {},
   "source": [
    "### Plot weekly degree days\n",
    "\n",
    "We resample the daily degree-days to weekly sums and plot the results. "
   ]
  },
  {
   "cell_type": "code",
   "execution_count": null,
   "metadata": {},
   "outputs": [],
   "source": [
    "plt.rcParams['figure.figsize'] = 14,6\n",
    "dfw_HDD_weekly = dfw_HDD.resample('W').sum()\n",
    "fig = dfw_HDD_weekly.filter(like='HDD').plot()\n",
    "fig.set_title('Weekly heating degree-days with different base temperatures')\n",
    "plt.show()"
   ]
  }
 ],
 "metadata": {
  "kernelspec": {
   "display_name": "Python 3",
   "language": "python",
   "name": "python3"
  },
  "language_info": {
   "codemirror_mode": {
    "name": "ipython",
    "version": 3
   },
   "file_extension": ".py",
   "mimetype": "text/x-python",
   "name": "python",
   "nbconvert_exporter": "python",
   "pygments_lexer": "ipython3",
   "version": "3.6.4"
  }
 },
 "nbformat": 4,
 "nbformat_minor": 1
}
